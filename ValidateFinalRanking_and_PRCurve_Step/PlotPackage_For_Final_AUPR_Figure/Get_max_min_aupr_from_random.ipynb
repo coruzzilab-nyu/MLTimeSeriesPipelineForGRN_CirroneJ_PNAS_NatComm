{
 "cells": [
  {
   "cell_type": "code",
   "execution_count": 1,
   "metadata": {},
   "outputs": [],
   "source": [
    "from sklearn.metrics import *\n",
    "import pandas as pd\n",
    "import numpy as np"
   ]
  },
  {
   "cell_type": "code",
   "execution_count": 2,
   "metadata": {},
   "outputs": [
    {
     "name": "stdout",
     "output_type": "stream",
     "text": [
      "0.22574191944424596 570\n",
      "0.2089102500360987 348\n"
     ]
    }
   ],
   "source": [
    "path_files = \"./roots18/\"\n",
    "precs_file = \"random_ordering_precisions.txt\"\n",
    "recalls_file = \"random_ordering_recalls.txt\"\n",
    "\n",
    "rand_precs = pd.read_table(path_files+precs_file,header=None)\n",
    "rand_recalls = pd.read_table(path_files+recalls_file, header=None)\n",
    "\n",
    "aupr_vect = []\n",
    "\n",
    "for i in range(rand_precs.shape[1]):\n",
    "    prec = np.insert(np.asarray(rand_precs.iloc[:,i]), 0, 1, axis=0)\n",
    "    recall = np.insert(np.asarray(rand_recalls.iloc[:,i]), 0, 0, axis=0)\n",
    "    prec = np.asarray(list(reversed(prec)))\n",
    "    recall = np.asarray(list(reversed(recall)))\n",
    "    aupr = auc(recall, prec)\n",
    "    aupr_vect.append(aupr)\n",
    "\n",
    "indx_max = aupr_vect.index(max(aupr_vect))\n",
    "indx_min = aupr_vect.index(min(aupr_vect))\n",
    "\n",
    "print max(aupr_vect), indx_max\n",
    "print min(aupr_vect), indx_min\n",
    "\n",
    "prec_min_max = pd.DataFrame(columns=range(2))\n",
    "recall_min_max = pd.DataFrame(columns=range(2))\n",
    "\n",
    "prec_min_max[0] = np.asarray(rand_precs.iloc[:, indx_min])\n",
    "prec_min_max[1] = np.asarray(rand_precs.iloc[:, indx_max])\n",
    "\n",
    "recall_min_max[0] = np.asarray(rand_recalls.iloc[:, indx_min])\n",
    "recall_min_max[1] = np.asarray(rand_recalls.iloc[:, indx_max])\n",
    "\n",
    "prec_min_max.to_csv(path_files+\"prec_min_max.txt\", header=False, index=False, sep=\"\\t\")\n",
    "recall_min_max.to_csv(path_files+\"recall_min_max.txt\", header=False, index=False, sep=\"\\t\")"
   ]
  },
  {
   "cell_type": "code",
   "execution_count": null,
   "metadata": {},
   "outputs": [],
   "source": []
  },
  {
   "cell_type": "code",
   "execution_count": null,
   "metadata": {},
   "outputs": [],
   "source": []
  },
  {
   "cell_type": "code",
   "execution_count": null,
   "metadata": {},
   "outputs": [],
   "source": []
  },
  {
   "cell_type": "code",
   "execution_count": null,
   "metadata": {},
   "outputs": [],
   "source": []
  },
  {
   "cell_type": "code",
   "execution_count": null,
   "metadata": {},
   "outputs": [],
   "source": []
  }
 ],
 "metadata": {
  "kernelspec": {
   "display_name": "Python 2",
   "language": "python",
   "name": "python2"
  },
  "language_info": {
   "codemirror_mode": {
    "name": "ipython",
    "version": 2
   },
   "file_extension": ".py",
   "mimetype": "text/x-python",
   "name": "python",
   "nbconvert_exporter": "python",
   "pygments_lexer": "ipython2",
   "version": "2.7.15"
  }
 },
 "nbformat": 4,
 "nbformat_minor": 2
}
