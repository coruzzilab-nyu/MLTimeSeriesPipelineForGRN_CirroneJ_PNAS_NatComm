{
 "cells": [
  {
   "cell_type": "code",
   "execution_count": 3,
   "metadata": {
    "scrolled": true
   },
   "outputs": [
    {
     "name": "stdout",
     "output_type": "stream",
     "text": [
      "Num of total TFs to validate:  1\n",
      "Gene 1    Integrase-type DNA-binding superfamily protein\n",
      "Name: AT2G22200, dtype: object\n",
      "Running...\n",
      "Num of TFs in the network:  145\n",
      "Num of targets in the network:  1658\n",
      "---> Total number of validated edges:  306\n",
      "---> Fraction of total true edges over total number of possible edges (i.e. Random guessing) -- Total number of validated edges(i.e. true positives)  num_valid_edges ( 306 ) / len(edges_score)(i.e. total num of possible edges) ( 1658 ) =  0.184559710495\n",
      " ---> Recall at precision  0.3 :  0.434640522875817 \n",
      " ---> More details: At precision  0.3  , we have out of  443  top-edges (TP+FP): \n",
      " recall[indx-1] ( 0.434640522875817 ) * validated_edges_df.shape[0] ( 306 ) =  133.0 edges True Positives\n",
      "---> precision, recall, threshold(bigger or equal):  0.3002257336343115 0.434640522875817 0.083993\n",
      " ---> Recall2 at precision2  0.4 :  0.27124183006535946 \n",
      " ---> More details: At precision2  0.4  , we have out of  207  top-edges (TP+FP): \n",
      " recall[indx2-1] ( 0.27124183006535946 ) * validated_edges_df.shape[0] ( 306 ) =  83.0 edges True Positives\n",
      "---> precision2, recall2, threshold2(bigger or equal):  0.40096618357487923 0.27124183006535946 0.21689\n",
      "Pipeline End\n",
      "AUPR DFG:  0.3273079931493287\n"
     ]
    },
    {
     "data": {
      "image/png": "[encoded data removed]",
      "text/plain": [
       "<Figure size 432x288 with 1 Axes>"
      ]
     },
     "metadata": {
      "needs_background": "light"
     },
     "output_type": "display_data"
    }
   ],
   "source": [
    "#Set pvalue_thres(float), list_name(string), remove_noExpInProtopl(boolean), remove_noJITs(boolean) and \n",
    "#then Run this cell with shift_enter\n",
    "\n",
    "\n",
    "#####MOST IMPORTANT PARAMETERS\n",
    "\n",
    "#pvalue_thres: FDR threshold for TFs lists\n",
    "pvalue_thres = 0.01\n",
    "\n",
    "\n",
    "#list_name: This name will affect the names of all output files, \n",
    "#so choose a different one every time you \n",
    "#run a given analysis is crucial\n",
    "list_name = \"newFromDrive12-18\"\n",
    "\n",
    "\n",
    "#Set remove_noExpInProtopl to True if you want to remove genes targets not expressed in Protoplasts\n",
    "remove_noExpInProtopl = False\n",
    "filename_genes_to_remove_prot = \"TargetsToRemove.csv\"\n",
    "\n",
    "\n",
    "#Set remove_noJITs to True if you want to remove genes targets which are not in JIT set\n",
    "remove_noJITs = False\n",
    "filename_genes_to_remove_noJIT = \"KV_RootNxTime_NoneJiT_Lessthan1.5FC.csv\"\n",
    "\n",
    "\n",
    "\n",
    "\n",
    "\n",
    "\n",
    "\n",
    "######PARAMETERS CHANGED LESS OFTEN\n",
    "\n",
    "\n",
    "#Precision Threshold for the Pruned Network\n",
    "thres_prec = 0.3\n",
    "\n",
    "\n",
    "#Set all_random_ordering to True if you want to get a pvalue for the random ordering over 1,000 iterations\n",
    "#and you want to print the three files necessary to run Kranthi's script for the final PRcruve figure of the paper\n",
    "all_random_ordering = False\n",
    "\n",
    "\n",
    "\n",
    "\n",
    "\n",
    "\n",
    "\n",
    "######DON'T CHANGE THESE PARAMETERS\n",
    "\n",
    "#Assign cheat_meth to \"yes\" if you want to use \"cheating method\"\n",
    "cheat_meth = \"no\"\n",
    "#Set plot_one_random_ordering if you want to plot DFG Pr curve together with a PR Curve from a random ordering\n",
    "plot_one_random_ordering = True\n",
    "params = []\n",
    "params.extend([pvalue_thres, list_name, remove_noExpInProtopl, remove_noJITs, cheat_meth, thres_prec, plot_one_random_ordering, all_random_ordering, filename_genes_to_remove_prot, filename_genes_to_remove_noJIT])\n",
    "from ValidationRank_PR_Curve import Validation\n",
    "validation_object = Validation()\n",
    "validation_object.run(params)\n"
   ]
  },
  {
   "cell_type": "code",
   "execution_count": null,
   "metadata": {},
   "outputs": [],
   "source": []
  },
  {
   "cell_type": "code",
   "execution_count": 33,
   "metadata": {},
   "outputs": [],
   "source": []
  },
  {
   "cell_type": "code",
   "execution_count": null,
   "metadata": {},
   "outputs": [],
   "source": []
  },
  {
   "cell_type": "code",
   "execution_count": null,
   "metadata": {},
   "outputs": [],
   "source": []
  },
  {
   "cell_type": "code",
   "execution_count": null,
   "metadata": {},
   "outputs": [],
   "source": [
    "    "
   ]
  },
  {
   "cell_type": "code",
   "execution_count": null,
   "metadata": {},
   "outputs": [],
   "source": []
  },
  {
   "cell_type": "code",
   "execution_count": null,
   "metadata": {},
   "outputs": [],
   "source": []
  },
  {
   "cell_type": "code",
   "execution_count": null,
   "metadata": {},
   "outputs": [],
   "source": []
  },
  {
   "cell_type": "code",
   "execution_count": null,
   "metadata": {},
   "outputs": [],
   "source": []
  },
  {
   "cell_type": "code",
   "execution_count": null,
   "metadata": {},
   "outputs": [],
   "source": []
  },
  {
   "cell_type": "code",
   "execution_count": null,
   "metadata": {},
   "outputs": [],
   "source": []
  },
  {
   "cell_type": "code",
   "execution_count": null,
   "metadata": {},
   "outputs": [],
   "source": []
  },
  {
   "cell_type": "code",
   "execution_count": null,
   "metadata": {},
   "outputs": [],
   "source": []
  },
  {
   "cell_type": "code",
   "execution_count": null,
   "metadata": {},
   "outputs": [],
   "source": []
  },
  {
   "cell_type": "code",
   "execution_count": null,
   "metadata": {},
   "outputs": [],
   "source": []
  },
  {
   "cell_type": "code",
   "execution_count": null,
   "metadata": {},
   "outputs": [],
   "source": []
  },
  {
   "cell_type": "code",
   "execution_count": null,
   "metadata": {},
   "outputs": [],
   "source": []
  },
  {
   "cell_type": "code",
   "execution_count": null,
   "metadata": {},
   "outputs": [],
   "source": []
  },
  {
   "cell_type": "code",
   "execution_count": null,
   "metadata": {},
   "outputs": [],
   "source": []
  },
  {
   "cell_type": "code",
   "execution_count": null,
   "metadata": {},
   "outputs": [],
   "source": []
  },
  {
   "cell_type": "code",
   "execution_count": null,
   "metadata": {},
   "outputs": [],
   "source": []
  },
  {
   "cell_type": "code",
   "execution_count": null,
   "metadata": {},
   "outputs": [],
   "source": []
  },
  {
   "cell_type": "code",
   "execution_count": null,
   "metadata": {},
   "outputs": [],
   "source": []
  },
  {
   "cell_type": "code",
   "execution_count": null,
   "metadata": {},
   "outputs": [],
   "source": []
  },
  {
   "cell_type": "code",
   "execution_count": null,
   "metadata": {},
   "outputs": [],
   "source": []
  },
  {
   "cell_type": "code",
   "execution_count": null,
   "metadata": {},
   "outputs": [],
   "source": []
  },
  {
   "cell_type": "code",
   "execution_count": null,
   "metadata": {},
   "outputs": [],
   "source": []
  },
  {
   "cell_type": "code",
   "execution_count": null,
   "metadata": {},
   "outputs": [],
   "source": []
  },
  {
   "cell_type": "code",
   "execution_count": null,
   "metadata": {},
   "outputs": [],
   "source": []
  }
 ],
 "metadata": {
  "kernelspec": {
   "display_name": "Python 2",
   "language": "python",
   "name": "python2"
  },
  "language_info": {
   "codemirror_mode": {
    "name": "ipython",
    "version": 2
   },
   "file_extension": ".py",
   "mimetype": "text/x-python",
   "name": "python",
   "nbconvert_exporter": "python",
   "pygments_lexer": "ipython2",
   "version": "2.7.15"
  }
 },
 "nbformat": 4,
 "nbformat_minor": 2
}
